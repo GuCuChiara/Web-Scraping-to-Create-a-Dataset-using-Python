{
  "nbformat": 4,
  "nbformat_minor": 0,
  "metadata": {
    "colab": {
      "provenance": [],
      "authorship_tag": "ABX9TyPDW6FDzTgIC5NvA2CJPROj",
      "include_colab_link": true
    },
    "kernelspec": {
      "name": "python3",
      "display_name": "Python 3"
    },
    "language_info": {
      "name": "python"
    }
  },
  "cells": [
    {
      "cell_type": "markdown",
      "metadata": {
        "id": "view-in-github",
        "colab_type": "text"
      },
      "source": [
        "<a href=\"https://colab.research.google.com/github/GuCuChiara/Web-Scraping-to-Create-a-Dataset-using-Python/blob/main/Web_Scraping_to_Create_a_Dataset_using_Python.ipynb\" target=\"_parent\"><img src=\"https://colab.research.google.com/assets/colab-badge.svg\" alt=\"Open In Colab\"/></a>"
      ]
    },
    {
      "cell_type": "markdown",
      "source": [
        "# Web Scraping to Create a Dataset using Python"
      ],
      "metadata": {
        "id": "J4_9by0YRNT6"
      }
    },
    {
      "cell_type": "markdown",
      "source": [
        "# How are Datasets Created by Scraping the Web?\n",
        "There are so many libraries, frameworks, and tools that are used for the task of web scraping. \n",
        "\n",
        "### Some of the most common libraries and modules in Python used for web scraping are:\n",
        "\n",
        "* Scrapy\n",
        "* Selenium\n",
        "* BeautifulSoup\n",
        "* Urlib.request\n",
        "\n",
        "All of the above Python libraries and modules are great for scraping data from websites. \n",
        "\n",
        "After scraping the data, the data is prepared so that it can be stored in a CSV file to create a dataset."
      ],
      "metadata": {
        "id": "5rGRuLnmRP3j"
      }
    },
    {
      "cell_type": "markdown",
      "source": [
        "### We link our google drive to colab"
      ],
      "metadata": {
        "id": "yuD1TA_hOtnh"
      }
    },
    {
      "cell_type": "code",
      "source": [
        "from google.colab import drive\n",
        "drive.mount('/content/drive')"
      ],
      "metadata": {
        "colab": {
          "base_uri": "https://localhost:8080/"
        },
        "id": "ZxySQSsCzSPk",
        "outputId": "4f1d8f07-8992-4cf1-e20b-46f1519a91c9"
      },
      "execution_count": null,
      "outputs": [
        {
          "output_type": "stream",
          "name": "stdout",
          "text": [
            "Drive already mounted at /content/drive; to attempt to forcibly remount, call drive.mount(\"/content/drive\", force_remount=True).\n"
          ]
        }
      ]
    },
    {
      "cell_type": "markdown",
      "source": [
        "### For this task, we will be using the **BeautifulSoup library** in Python.\n",
        "\n",
        "we import the necessary libraries"
      ],
      "metadata": {
        "id": "0z-Zj_YJRk6Q"
      }
    },
    {
      "cell_type": "code",
      "execution_count": null,
      "metadata": {
        "id": "4oKbQcR1RI22"
      },
      "outputs": [],
      "source": [
        "import csv\n",
        "from urllib.request import urlopen\n",
        "from bs4 import BeautifulSoup\n",
        "import requests"
      ]
    },
    {
      "cell_type": "markdown",
      "source": [
        "### We open the url of **Wikipedia** to go through the html tables:"
      ],
      "metadata": {
        "id": "v1BVMlUPPCsg"
      }
    },
    {
      "cell_type": "code",
      "source": [
        "html = urlopen(\"https://en.wikipedia.org/wiki/Comparison_of_programming_languages\")\n",
        "soup = BeautifulSoup(html, \"html.parser\")\n",
        "table = soup.findAll(\"table\", {\"class\":\"wikitable\"})[0]\n",
        "rows = table.findAll(\"tr\")"
      ],
      "metadata": {
        "id": "ZZYCLJ7cRzs_"
      },
      "execution_count": null,
      "outputs": []
    },
    {
      "cell_type": "markdown",
      "source": [
        "### After scraping the data, the data is prepared so that it can be stored in a CSV file to create a local dataset.\n",
        "```\n",
        "programing_languages.csv\n",
        "```\n",
        "\n"
      ],
      "metadata": {
        "id": "tg6q-LShR6_j"
      }
    },
    {
      "cell_type": "code",
      "source": [
        "with open(\"/content/drive/MyDrive/Colab Notebooks/Python scripts/programing_languages.csv\", \"wt+\", newline=\"\") as f:\n",
        "    writer = csv.writer(f)\n",
        "    for i in rows:\n",
        "        row = []\n",
        "        for cell in i.findAll([\"td\", \"th\"]):\n",
        "            row.append(cell.get_text())\n",
        "        writer.writerow(row)"
      ],
      "metadata": {
        "id": "rskxQZfLQ3cf"
      },
      "execution_count": null,
      "outputs": []
    },
    {
      "cell_type": "markdown",
      "source": [
        "### We read the header of our dataset with pandas:"
      ],
      "metadata": {
        "id": "uI9IN3j3Q_0y"
      }
    },
    {
      "cell_type": "code",
      "source": [
        "import pandas as pd\n",
        "a = pd.read_csv(\"/content/drive/MyDrive/Colab Notebooks/Python scripts/programing_languages.csv\")\n",
        "a.head()"
      ],
      "metadata": {
        "colab": {
          "base_uri": "https://localhost:8080/",
          "height": 424
        },
        "id": "INZwE-tgR7SK",
        "outputId": "942b6696-7c01-404e-e93b-82158c39e4bf"
      },
      "execution_count": null,
      "outputs": [
        {
          "output_type": "execute_result",
          "data": {
            "text/plain": [
              "                             Language\\n  \\\n",
              "0  1C:Enterprise programming language\\n   \n",
              "1                    ActionScript 3.0\\n   \n",
              "2                                 Ada\\n   \n",
              "3                               Aldor\\n   \n",
              "4                            ALGOL 58\\n   \n",
              "\n",
              "                                  Original purpose\\n Imperative\\n  \\\n",
              "0  Application, RAD, business, general, web, mobi...        Yes\\n   \n",
              "1                    Application, client-side, web\\n        Yes\\n   \n",
              "2          Application, embedded, realtime, system\\n        Yes\\n   \n",
              "3       Highly domain-specific, symbolic computing\\n        Yes\\n   \n",
              "4                                      Application\\n        Yes\\n   \n",
              "\n",
              "  Object-oriented\\n Functional\\n Procedural\\n Generic\\n Reflective\\n  \\\n",
              "0              No\\n        Yes\\n        Yes\\n     Yes\\n        Yes\\n   \n",
              "1             Yes\\n        Yes\\n         No\\n      No\\n         No\\n   \n",
              "2          Yes[2]\\n         No\\n     Yes[3]\\n  Yes[4]\\n         No\\n   \n",
              "3             Yes\\n        Yes\\n         No\\n      No\\n         No\\n   \n",
              "4              No\\n         No\\n         No\\n      No\\n         No\\n   \n",
              "\n",
              "  Event-driven\\n                            Other paradigms\\n  \\\n",
              "0          Yes\\n  Object-based, Prototype-based programming\\n   \n",
              "1          Yes\\n                                           \\n   \n",
              "2           No\\n             Concurrent,[5] distributed,[6]\\n   \n",
              "3           No\\n                                           \\n   \n",
              "4           No\\n                                           \\n   \n",
              "\n",
              "                                     Standardized?\\n  \n",
              "0                                               No\\n  \n",
              "1                                    Yes1996, ECMA\\n  \n",
              "2  Yes1983, 2005, 2012, ANSI, ISO, GOST 27831-88[...  \n",
              "3                                               No\\n  \n",
              "4                                               No\\n  "
            ],
            "text/html": [
              "\n",
              "  <div id=\"df-ca3d49f2-eed0-4477-94c7-bfc67b95a051\">\n",
              "    <div class=\"colab-df-container\">\n",
              "      <div>\n",
              "<style scoped>\n",
              "    .dataframe tbody tr th:only-of-type {\n",
              "        vertical-align: middle;\n",
              "    }\n",
              "\n",
              "    .dataframe tbody tr th {\n",
              "        vertical-align: top;\n",
              "    }\n",
              "\n",
              "    .dataframe thead th {\n",
              "        text-align: right;\n",
              "    }\n",
              "</style>\n",
              "<table border=\"1\" class=\"dataframe\">\n",
              "  <thead>\n",
              "    <tr style=\"text-align: right;\">\n",
              "      <th></th>\n",
              "      <th>Language\\n</th>\n",
              "      <th>Original purpose\\n</th>\n",
              "      <th>Imperative\\n</th>\n",
              "      <th>Object-oriented\\n</th>\n",
              "      <th>Functional\\n</th>\n",
              "      <th>Procedural\\n</th>\n",
              "      <th>Generic\\n</th>\n",
              "      <th>Reflective\\n</th>\n",
              "      <th>Event-driven\\n</th>\n",
              "      <th>Other paradigms\\n</th>\n",
              "      <th>Standardized?\\n</th>\n",
              "    </tr>\n",
              "  </thead>\n",
              "  <tbody>\n",
              "    <tr>\n",
              "      <th>0</th>\n",
              "      <td>1C:Enterprise programming language\\n</td>\n",
              "      <td>Application, RAD, business, general, web, mobi...</td>\n",
              "      <td>Yes\\n</td>\n",
              "      <td>No\\n</td>\n",
              "      <td>Yes\\n</td>\n",
              "      <td>Yes\\n</td>\n",
              "      <td>Yes\\n</td>\n",
              "      <td>Yes\\n</td>\n",
              "      <td>Yes\\n</td>\n",
              "      <td>Object-based, Prototype-based programming\\n</td>\n",
              "      <td>No\\n</td>\n",
              "    </tr>\n",
              "    <tr>\n",
              "      <th>1</th>\n",
              "      <td>ActionScript 3.0\\n</td>\n",
              "      <td>Application, client-side, web\\n</td>\n",
              "      <td>Yes\\n</td>\n",
              "      <td>Yes\\n</td>\n",
              "      <td>Yes\\n</td>\n",
              "      <td>No\\n</td>\n",
              "      <td>No\\n</td>\n",
              "      <td>No\\n</td>\n",
              "      <td>Yes\\n</td>\n",
              "      <td>\\n</td>\n",
              "      <td>Yes1996, ECMA\\n</td>\n",
              "    </tr>\n",
              "    <tr>\n",
              "      <th>2</th>\n",
              "      <td>Ada\\n</td>\n",
              "      <td>Application, embedded, realtime, system\\n</td>\n",
              "      <td>Yes\\n</td>\n",
              "      <td>Yes[2]\\n</td>\n",
              "      <td>No\\n</td>\n",
              "      <td>Yes[3]\\n</td>\n",
              "      <td>Yes[4]\\n</td>\n",
              "      <td>No\\n</td>\n",
              "      <td>No\\n</td>\n",
              "      <td>Concurrent,[5] distributed,[6]\\n</td>\n",
              "      <td>Yes1983, 2005, 2012, ANSI, ISO, GOST 27831-88[...</td>\n",
              "    </tr>\n",
              "    <tr>\n",
              "      <th>3</th>\n",
              "      <td>Aldor\\n</td>\n",
              "      <td>Highly domain-specific, symbolic computing\\n</td>\n",
              "      <td>Yes\\n</td>\n",
              "      <td>Yes\\n</td>\n",
              "      <td>Yes\\n</td>\n",
              "      <td>No\\n</td>\n",
              "      <td>No\\n</td>\n",
              "      <td>No\\n</td>\n",
              "      <td>No\\n</td>\n",
              "      <td>\\n</td>\n",
              "      <td>No\\n</td>\n",
              "    </tr>\n",
              "    <tr>\n",
              "      <th>4</th>\n",
              "      <td>ALGOL 58\\n</td>\n",
              "      <td>Application\\n</td>\n",
              "      <td>Yes\\n</td>\n",
              "      <td>No\\n</td>\n",
              "      <td>No\\n</td>\n",
              "      <td>No\\n</td>\n",
              "      <td>No\\n</td>\n",
              "      <td>No\\n</td>\n",
              "      <td>No\\n</td>\n",
              "      <td>\\n</td>\n",
              "      <td>No\\n</td>\n",
              "    </tr>\n",
              "  </tbody>\n",
              "</table>\n",
              "</div>\n",
              "      <button class=\"colab-df-convert\" onclick=\"convertToInteractive('df-ca3d49f2-eed0-4477-94c7-bfc67b95a051')\"\n",
              "              title=\"Convert this dataframe to an interactive table.\"\n",
              "              style=\"display:none;\">\n",
              "        \n",
              "  <svg xmlns=\"http://www.w3.org/2000/svg\" height=\"24px\"viewBox=\"0 0 24 24\"\n",
              "       width=\"24px\">\n",
              "    <path d=\"M0 0h24v24H0V0z\" fill=\"none\"/>\n",
              "    <path d=\"M18.56 5.44l.94 2.06.94-2.06 2.06-.94-2.06-.94-.94-2.06-.94 2.06-2.06.94zm-11 1L8.5 8.5l.94-2.06 2.06-.94-2.06-.94L8.5 2.5l-.94 2.06-2.06.94zm10 10l.94 2.06.94-2.06 2.06-.94-2.06-.94-.94-2.06-.94 2.06-2.06.94z\"/><path d=\"M17.41 7.96l-1.37-1.37c-.4-.4-.92-.59-1.43-.59-.52 0-1.04.2-1.43.59L10.3 9.45l-7.72 7.72c-.78.78-.78 2.05 0 2.83L4 21.41c.39.39.9.59 1.41.59.51 0 1.02-.2 1.41-.59l7.78-7.78 2.81-2.81c.8-.78.8-2.07 0-2.86zM5.41 20L4 18.59l7.72-7.72 1.47 1.35L5.41 20z\"/>\n",
              "  </svg>\n",
              "      </button>\n",
              "      \n",
              "  <style>\n",
              "    .colab-df-container {\n",
              "      display:flex;\n",
              "      flex-wrap:wrap;\n",
              "      gap: 12px;\n",
              "    }\n",
              "\n",
              "    .colab-df-convert {\n",
              "      background-color: #E8F0FE;\n",
              "      border: none;\n",
              "      border-radius: 50%;\n",
              "      cursor: pointer;\n",
              "      display: none;\n",
              "      fill: #1967D2;\n",
              "      height: 32px;\n",
              "      padding: 0 0 0 0;\n",
              "      width: 32px;\n",
              "    }\n",
              "\n",
              "    .colab-df-convert:hover {\n",
              "      background-color: #E2EBFA;\n",
              "      box-shadow: 0px 1px 2px rgba(60, 64, 67, 0.3), 0px 1px 3px 1px rgba(60, 64, 67, 0.15);\n",
              "      fill: #174EA6;\n",
              "    }\n",
              "\n",
              "    [theme=dark] .colab-df-convert {\n",
              "      background-color: #3B4455;\n",
              "      fill: #D2E3FC;\n",
              "    }\n",
              "\n",
              "    [theme=dark] .colab-df-convert:hover {\n",
              "      background-color: #434B5C;\n",
              "      box-shadow: 0px 1px 3px 1px rgba(0, 0, 0, 0.15);\n",
              "      filter: drop-shadow(0px 1px 2px rgba(0, 0, 0, 0.3));\n",
              "      fill: #FFFFFF;\n",
              "    }\n",
              "  </style>\n",
              "\n",
              "      <script>\n",
              "        const buttonEl =\n",
              "          document.querySelector('#df-ca3d49f2-eed0-4477-94c7-bfc67b95a051 button.colab-df-convert');\n",
              "        buttonEl.style.display =\n",
              "          google.colab.kernel.accessAllowed ? 'block' : 'none';\n",
              "\n",
              "        async function convertToInteractive(key) {\n",
              "          const element = document.querySelector('#df-ca3d49f2-eed0-4477-94c7-bfc67b95a051');\n",
              "          const dataTable =\n",
              "            await google.colab.kernel.invokeFunction('convertToInteractive',\n",
              "                                                     [key], {});\n",
              "          if (!dataTable) return;\n",
              "\n",
              "          const docLinkHtml = 'Like what you see? Visit the ' +\n",
              "            '<a target=\"_blank\" href=https://colab.research.google.com/notebooks/data_table.ipynb>data table notebook</a>'\n",
              "            + ' to learn more about interactive tables.';\n",
              "          element.innerHTML = '';\n",
              "          dataTable['output_type'] = 'display_data';\n",
              "          await google.colab.output.renderOutput(dataTable, element);\n",
              "          const docLink = document.createElement('div');\n",
              "          docLink.innerHTML = docLinkHtml;\n",
              "          element.appendChild(docLink);\n",
              "        }\n",
              "      </script>\n",
              "    </div>\n",
              "  </div>\n",
              "  "
            ]
          },
          "metadata": {},
          "execution_count": 10
        }
      ]
    },
    {
      "cell_type": "markdown",
      "source": [
        "### Another example with the **worldometers** web page containing information about COVID-19:"
      ],
      "metadata": {
        "id": "WEqIKZCISoNB"
      }
    },
    {
      "cell_type": "markdown",
      "source": [
        "### COVID-19 CORONAVIRUS PANDEMIC\n",
        "## https://www.worldometers.info/coronavirus/\n",
        "\n"
      ],
      "metadata": {
        "id": "rog32tUxYYsC"
      }
    },
    {
      "cell_type": "code",
      "source": [
        "url = 'https://www.worldometers.info/coronavirus/'\n",
        "response = requests.get(url)\n",
        "soup = BeautifulSoup(response.text, 'html.parser')"
      ],
      "metadata": {
        "id": "tCavKmoMYZWS"
      },
      "execution_count": null,
      "outputs": []
    },
    {
      "cell_type": "markdown",
      "source": [
        "### We look for the table with the id **main_table_countries_today** that contains the statistical information of interest:"
      ],
      "metadata": {
        "id": "EjkiPHQkYa-Y"
      }
    },
    {
      "cell_type": "code",
      "source": [
        "table = soup.find('table', id='main_table_countries_today')"
      ],
      "metadata": {
        "id": "KbiEHrcvYbKv"
      },
      "execution_count": null,
      "outputs": []
    },
    {
      "cell_type": "markdown",
      "source": [
        "### After scraping the data, the data is prepared so that it can be stored in a CSV file to create a local dataset:\n",
        "\n",
        "\n",
        "```\n",
        "coronavirus.csv\n",
        "```\n",
        "\n",
        "\n"
      ],
      "metadata": {
        "id": "eZvN3XcTUL2N"
      }
    },
    {
      "cell_type": "code",
      "source": [
        "rows = table.findAll(\"tr\")\n",
        "\n",
        "with open(\"/content/drive/MyDrive/Colab Notebooks/Python scripts/coronavirus.csv\", \"wt+\", newline=\"\") as f:\n",
        "    writer = csv.writer(f)\n",
        "    for i in rows:\n",
        "        row = []\n",
        "        for cell in i.findAll([\"td\", \"th\"]):\n",
        "            row.append(cell.get_text())\n",
        "        writer.writerow(row)"
      ],
      "metadata": {
        "id": "pXxYsHYYaG15"
      },
      "execution_count": null,
      "outputs": []
    },
    {
      "cell_type": "markdown",
      "source": [
        "### We read the header of our local **coronavirus.csv** dataset with pandas:"
      ],
      "metadata": {
        "id": "Q8IYBF3_Z1zm"
      }
    },
    {
      "cell_type": "code",
      "source": [
        "a = pd.read_csv(\"/content/drive/MyDrive/Colab Notebooks/Python scripts/coronavirus.csv\")\n",
        "a.head()"
      ],
      "metadata": {
        "colab": {
          "base_uri": "https://localhost:8080/",
          "height": 369
        },
        "id": "iWaOkzp4Z2bV",
        "outputId": "a1179684-2747-4921-cf93-40e2c9eb5470"
      },
      "execution_count": null,
      "outputs": [
        {
          "output_type": "execute_result",
          "data": {
            "text/plain": [
              "    #      Country,Other   TotalCases NewCases TotalDeaths  NewDeaths  \\\n",
              "0 NaN  \\nNorth America\\n  123,822,984   +8,168   1,602,516      109.0   \n",
              "1 NaN           \\nAsia\\n  213,437,083  +71,043   1,532,261      339.0   \n",
              "2 NaN         \\nEurope\\n  245,173,554  +19,292   2,009,753       76.0   \n",
              "3 NaN  \\nSouth America\\n   67,812,576   +2,256   1,348,472       36.0   \n",
              "4 NaN        \\nOceania\\n   13,914,877      NaN      25,471        NaN   \n",
              "\n",
              "  TotalRecovered NewRecovered ActiveCases Serious,Critical  ... TotalTests  \\\n",
              "0    118,877,067      +12,634   3,343,401            8,343  ...        NaN   \n",
              "1    197,923,518      +59,535  13,981,304           15,751  ...        NaN   \n",
              "2    240,857,241      +25,514   2,306,560            6,467  ...        NaN   \n",
              "3     66,007,415       +9,519     456,689           10,215  ...        NaN   \n",
              "4     13,754,315          NaN     135,091               78  ...        NaN   \n",
              "\n",
              "  Tests/\\n1M pop\\n Population          Continent 1 Caseevery X ppl  \\\n",
              "0              NaN        NaN      North America                \\n   \n",
              "1              NaN        NaN               Asia                \\n   \n",
              "2              NaN        NaN             Europe                \\n   \n",
              "3              NaN        NaN      South America                \\n   \n",
              "4              NaN        NaN  Australia/Oceania                \\n   \n",
              "\n",
              "  1 Deathevery X ppl 1 Testevery X ppl New Cases/1M pop  New Deaths/1M pop  \\\n",
              "0                NaN               NaN              NaN                NaN   \n",
              "1                NaN               NaN              NaN                NaN   \n",
              "2                NaN               NaN              NaN                NaN   \n",
              "3                NaN               NaN              NaN                NaN   \n",
              "4                NaN               NaN              NaN                NaN   \n",
              "\n",
              "   Active Cases/1M pop  \n",
              "0                  NaN  \n",
              "1                  NaN  \n",
              "2                  NaN  \n",
              "3                  NaN  \n",
              "4                  NaN  \n",
              "\n",
              "[5 rows x 22 columns]"
            ],
            "text/html": [
              "\n",
              "  <div id=\"df-0e0ee163-0bc6-443a-adfc-a98830d66f5f\">\n",
              "    <div class=\"colab-df-container\">\n",
              "      <div>\n",
              "<style scoped>\n",
              "    .dataframe tbody tr th:only-of-type {\n",
              "        vertical-align: middle;\n",
              "    }\n",
              "\n",
              "    .dataframe tbody tr th {\n",
              "        vertical-align: top;\n",
              "    }\n",
              "\n",
              "    .dataframe thead th {\n",
              "        text-align: right;\n",
              "    }\n",
              "</style>\n",
              "<table border=\"1\" class=\"dataframe\">\n",
              "  <thead>\n",
              "    <tr style=\"text-align: right;\">\n",
              "      <th></th>\n",
              "      <th>#</th>\n",
              "      <th>Country,Other</th>\n",
              "      <th>TotalCases</th>\n",
              "      <th>NewCases</th>\n",
              "      <th>TotalDeaths</th>\n",
              "      <th>NewDeaths</th>\n",
              "      <th>TotalRecovered</th>\n",
              "      <th>NewRecovered</th>\n",
              "      <th>ActiveCases</th>\n",
              "      <th>Serious,Critical</th>\n",
              "      <th>...</th>\n",
              "      <th>TotalTests</th>\n",
              "      <th>Tests/\\n1M pop\\n</th>\n",
              "      <th>Population</th>\n",
              "      <th>Continent</th>\n",
              "      <th>1 Caseevery X ppl</th>\n",
              "      <th>1 Deathevery X ppl</th>\n",
              "      <th>1 Testevery X ppl</th>\n",
              "      <th>New Cases/1M pop</th>\n",
              "      <th>New Deaths/1M pop</th>\n",
              "      <th>Active Cases/1M pop</th>\n",
              "    </tr>\n",
              "  </thead>\n",
              "  <tbody>\n",
              "    <tr>\n",
              "      <th>0</th>\n",
              "      <td>NaN</td>\n",
              "      <td>\\nNorth America\\n</td>\n",
              "      <td>123,822,984</td>\n",
              "      <td>+8,168</td>\n",
              "      <td>1,602,516</td>\n",
              "      <td>109.0</td>\n",
              "      <td>118,877,067</td>\n",
              "      <td>+12,634</td>\n",
              "      <td>3,343,401</td>\n",
              "      <td>8,343</td>\n",
              "      <td>...</td>\n",
              "      <td>NaN</td>\n",
              "      <td>NaN</td>\n",
              "      <td>NaN</td>\n",
              "      <td>North America</td>\n",
              "      <td>\\n</td>\n",
              "      <td>NaN</td>\n",
              "      <td>NaN</td>\n",
              "      <td>NaN</td>\n",
              "      <td>NaN</td>\n",
              "      <td>NaN</td>\n",
              "    </tr>\n",
              "    <tr>\n",
              "      <th>1</th>\n",
              "      <td>NaN</td>\n",
              "      <td>\\nAsia\\n</td>\n",
              "      <td>213,437,083</td>\n",
              "      <td>+71,043</td>\n",
              "      <td>1,532,261</td>\n",
              "      <td>339.0</td>\n",
              "      <td>197,923,518</td>\n",
              "      <td>+59,535</td>\n",
              "      <td>13,981,304</td>\n",
              "      <td>15,751</td>\n",
              "      <td>...</td>\n",
              "      <td>NaN</td>\n",
              "      <td>NaN</td>\n",
              "      <td>NaN</td>\n",
              "      <td>Asia</td>\n",
              "      <td>\\n</td>\n",
              "      <td>NaN</td>\n",
              "      <td>NaN</td>\n",
              "      <td>NaN</td>\n",
              "      <td>NaN</td>\n",
              "      <td>NaN</td>\n",
              "    </tr>\n",
              "    <tr>\n",
              "      <th>2</th>\n",
              "      <td>NaN</td>\n",
              "      <td>\\nEurope\\n</td>\n",
              "      <td>245,173,554</td>\n",
              "      <td>+19,292</td>\n",
              "      <td>2,009,753</td>\n",
              "      <td>76.0</td>\n",
              "      <td>240,857,241</td>\n",
              "      <td>+25,514</td>\n",
              "      <td>2,306,560</td>\n",
              "      <td>6,467</td>\n",
              "      <td>...</td>\n",
              "      <td>NaN</td>\n",
              "      <td>NaN</td>\n",
              "      <td>NaN</td>\n",
              "      <td>Europe</td>\n",
              "      <td>\\n</td>\n",
              "      <td>NaN</td>\n",
              "      <td>NaN</td>\n",
              "      <td>NaN</td>\n",
              "      <td>NaN</td>\n",
              "      <td>NaN</td>\n",
              "    </tr>\n",
              "    <tr>\n",
              "      <th>3</th>\n",
              "      <td>NaN</td>\n",
              "      <td>\\nSouth America\\n</td>\n",
              "      <td>67,812,576</td>\n",
              "      <td>+2,256</td>\n",
              "      <td>1,348,472</td>\n",
              "      <td>36.0</td>\n",
              "      <td>66,007,415</td>\n",
              "      <td>+9,519</td>\n",
              "      <td>456,689</td>\n",
              "      <td>10,215</td>\n",
              "      <td>...</td>\n",
              "      <td>NaN</td>\n",
              "      <td>NaN</td>\n",
              "      <td>NaN</td>\n",
              "      <td>South America</td>\n",
              "      <td>\\n</td>\n",
              "      <td>NaN</td>\n",
              "      <td>NaN</td>\n",
              "      <td>NaN</td>\n",
              "      <td>NaN</td>\n",
              "      <td>NaN</td>\n",
              "    </tr>\n",
              "    <tr>\n",
              "      <th>4</th>\n",
              "      <td>NaN</td>\n",
              "      <td>\\nOceania\\n</td>\n",
              "      <td>13,914,877</td>\n",
              "      <td>NaN</td>\n",
              "      <td>25,471</td>\n",
              "      <td>NaN</td>\n",
              "      <td>13,754,315</td>\n",
              "      <td>NaN</td>\n",
              "      <td>135,091</td>\n",
              "      <td>78</td>\n",
              "      <td>...</td>\n",
              "      <td>NaN</td>\n",
              "      <td>NaN</td>\n",
              "      <td>NaN</td>\n",
              "      <td>Australia/Oceania</td>\n",
              "      <td>\\n</td>\n",
              "      <td>NaN</td>\n",
              "      <td>NaN</td>\n",
              "      <td>NaN</td>\n",
              "      <td>NaN</td>\n",
              "      <td>NaN</td>\n",
              "    </tr>\n",
              "  </tbody>\n",
              "</table>\n",
              "<p>5 rows × 22 columns</p>\n",
              "</div>\n",
              "      <button class=\"colab-df-convert\" onclick=\"convertToInteractive('df-0e0ee163-0bc6-443a-adfc-a98830d66f5f')\"\n",
              "              title=\"Convert this dataframe to an interactive table.\"\n",
              "              style=\"display:none;\">\n",
              "        \n",
              "  <svg xmlns=\"http://www.w3.org/2000/svg\" height=\"24px\"viewBox=\"0 0 24 24\"\n",
              "       width=\"24px\">\n",
              "    <path d=\"M0 0h24v24H0V0z\" fill=\"none\"/>\n",
              "    <path d=\"M18.56 5.44l.94 2.06.94-2.06 2.06-.94-2.06-.94-.94-2.06-.94 2.06-2.06.94zm-11 1L8.5 8.5l.94-2.06 2.06-.94-2.06-.94L8.5 2.5l-.94 2.06-2.06.94zm10 10l.94 2.06.94-2.06 2.06-.94-2.06-.94-.94-2.06-.94 2.06-2.06.94z\"/><path d=\"M17.41 7.96l-1.37-1.37c-.4-.4-.92-.59-1.43-.59-.52 0-1.04.2-1.43.59L10.3 9.45l-7.72 7.72c-.78.78-.78 2.05 0 2.83L4 21.41c.39.39.9.59 1.41.59.51 0 1.02-.2 1.41-.59l7.78-7.78 2.81-2.81c.8-.78.8-2.07 0-2.86zM5.41 20L4 18.59l7.72-7.72 1.47 1.35L5.41 20z\"/>\n",
              "  </svg>\n",
              "      </button>\n",
              "      \n",
              "  <style>\n",
              "    .colab-df-container {\n",
              "      display:flex;\n",
              "      flex-wrap:wrap;\n",
              "      gap: 12px;\n",
              "    }\n",
              "\n",
              "    .colab-df-convert {\n",
              "      background-color: #E8F0FE;\n",
              "      border: none;\n",
              "      border-radius: 50%;\n",
              "      cursor: pointer;\n",
              "      display: none;\n",
              "      fill: #1967D2;\n",
              "      height: 32px;\n",
              "      padding: 0 0 0 0;\n",
              "      width: 32px;\n",
              "    }\n",
              "\n",
              "    .colab-df-convert:hover {\n",
              "      background-color: #E2EBFA;\n",
              "      box-shadow: 0px 1px 2px rgba(60, 64, 67, 0.3), 0px 1px 3px 1px rgba(60, 64, 67, 0.15);\n",
              "      fill: #174EA6;\n",
              "    }\n",
              "\n",
              "    [theme=dark] .colab-df-convert {\n",
              "      background-color: #3B4455;\n",
              "      fill: #D2E3FC;\n",
              "    }\n",
              "\n",
              "    [theme=dark] .colab-df-convert:hover {\n",
              "      background-color: #434B5C;\n",
              "      box-shadow: 0px 1px 3px 1px rgba(0, 0, 0, 0.15);\n",
              "      filter: drop-shadow(0px 1px 2px rgba(0, 0, 0, 0.3));\n",
              "      fill: #FFFFFF;\n",
              "    }\n",
              "  </style>\n",
              "\n",
              "      <script>\n",
              "        const buttonEl =\n",
              "          document.querySelector('#df-0e0ee163-0bc6-443a-adfc-a98830d66f5f button.colab-df-convert');\n",
              "        buttonEl.style.display =\n",
              "          google.colab.kernel.accessAllowed ? 'block' : 'none';\n",
              "\n",
              "        async function convertToInteractive(key) {\n",
              "          const element = document.querySelector('#df-0e0ee163-0bc6-443a-adfc-a98830d66f5f');\n",
              "          const dataTable =\n",
              "            await google.colab.kernel.invokeFunction('convertToInteractive',\n",
              "                                                     [key], {});\n",
              "          if (!dataTable) return;\n",
              "\n",
              "          const docLinkHtml = 'Like what you see? Visit the ' +\n",
              "            '<a target=\"_blank\" href=https://colab.research.google.com/notebooks/data_table.ipynb>data table notebook</a>'\n",
              "            + ' to learn more about interactive tables.';\n",
              "          element.innerHTML = '';\n",
              "          dataTable['output_type'] = 'display_data';\n",
              "          await google.colab.output.renderOutput(dataTable, element);\n",
              "          const docLink = document.createElement('div');\n",
              "          docLink.innerHTML = docLinkHtml;\n",
              "          element.appendChild(docLink);\n",
              "        }\n",
              "      </script>\n",
              "    </div>\n",
              "  </div>\n",
              "  "
            ]
          },
          "metadata": {},
          "execution_count": 14
        }
      ]
    },
    {
      "cell_type": "markdown",
      "source": [
        "### We can save our table in html format, to use it on our website:"
      ],
      "metadata": {
        "id": "2DhN4CWgYdYD"
      }
    },
    {
      "cell_type": "code",
      "source": [
        "with open('/content/drive/MyDrive/Colab Notebooks/Python scripts/tabla.html', 'w') as f:\n",
        "    f.write(str(table))\n"
      ],
      "metadata": {
        "id": "4StejC6fYgOm"
      },
      "execution_count": null,
      "outputs": []
    },
    {
      "cell_type": "code",
      "source": [
        "import pandas as pd\n",
        "import re\n",
        "\n",
        "r = requests.get('https://www.worldometers.info/coronavirus/').text\n",
        "\n",
        "soup = BeautifulSoup(r,\"lxml\")\n",
        "today = str(soup.find('div', attrs={'id':'nav-today'}))\n",
        "# Converted into string because re need string not bytes\n",
        "\n",
        "today = re.sub(r'<.*?>', lambda g: g.group(0).upper(), today)\n",
        "# Changing characters inside <> into uppercase\n",
        "\n",
        "dfs = pd.read_html(today)[0]\n",
        "#print(dfs)\n",
        "dfs.head"
      ],
      "metadata": {
        "colab": {
          "base_uri": "https://localhost:8080/"
        },
        "id": "SRqI1GFNh64t",
        "outputId": "8ecbfb43-1857-4dc8-94b2-7a3126e59c62"
      },
      "execution_count": null,
      "outputs": [
        {
          "output_type": "execute_result",
          "data": {
            "text/plain": [
              "<bound method NDFrame.head of       #  Country,Other  TotalCases  NewCases  TotalDeaths  NewDeaths  \\\n",
              "0   NaN  North America   123825061   10245.0    1602555.0      148.0   \n",
              "1   NaN           Asia   213437083   71043.0    1532261.0      339.0   \n",
              "2   NaN         Europe   245173554   19292.0    2009753.0       76.0   \n",
              "3   NaN  South America    67812576    2256.0    1348472.0       36.0   \n",
              "4   NaN        Oceania    13914877       NaN      25471.0        NaN   \n",
              "..   ..            ...         ...       ...          ...        ...   \n",
              "242 NaN         Total:    67812576    2256.0    1348472.0       36.0   \n",
              "243 NaN         Total:    13914877       NaN      25471.0        NaN   \n",
              "244 NaN         Total:    12782188      44.0     258535.0        NaN   \n",
              "245 NaN         Total:         721       NaN         15.0        NaN   \n",
              "246 NaN         Total:   676946060  102880.0    6777062.0      599.0   \n",
              "\n",
              "     TotalRecovered  NewRecovered  ActiveCases  Serious,Critical  ...  \\\n",
              "0       118891433.0       27000.0    3331073.0            8341.0  ...   \n",
              "1       197923518.0       59535.0   13981304.0           15751.0  ...   \n",
              "2       240857241.0       25514.0    2306560.0            6467.0  ...   \n",
              "3        66007415.0        9519.0     456689.0           10215.0  ...   \n",
              "4        13754315.0           NaN     135091.0              78.0  ...   \n",
              "..              ...           ...          ...               ...  ...   \n",
              "242      66007415.0        9519.0     456689.0           10215.0  ...   \n",
              "243      13754315.0           NaN     135091.0              78.0  ...   \n",
              "244      12065633.0           NaN     458020.0             547.0  ...   \n",
              "245           706.0           NaN          0.0               0.0  ...   \n",
              "246     649500261.0      121644.0   20668737.0           41399.0  ...   \n",
              "\n",
              "     TotalTests  Tests/ 1M pop  Population          Continent  \\\n",
              "0           NaN            NaN         NaN      North America   \n",
              "1           NaN            NaN         NaN               Asia   \n",
              "2           NaN            NaN         NaN             Europe   \n",
              "3           NaN            NaN         NaN      South America   \n",
              "4           NaN            NaN         NaN  Australia/Oceania   \n",
              "..          ...            ...         ...                ...   \n",
              "242         NaN            NaN         NaN      South America   \n",
              "243         NaN            NaN         NaN  Australia/Oceania   \n",
              "244         NaN            NaN         NaN             Africa   \n",
              "245         NaN            NaN         NaN                NaN   \n",
              "246         NaN            NaN         NaN                All   \n",
              "\n",
              "     1 Caseevery X ppl 1 Deathevery X ppl  1 Testevery X ppl  \\\n",
              "0                  NaN                NaN                NaN   \n",
              "1                  NaN                NaN                NaN   \n",
              "2                  NaN                NaN                NaN   \n",
              "3                  NaN                NaN                NaN   \n",
              "4                  NaN                NaN                NaN   \n",
              "..                 ...                ...                ...   \n",
              "242                NaN                NaN                NaN   \n",
              "243                NaN                NaN                NaN   \n",
              "244                NaN                NaN                NaN   \n",
              "245                NaN                NaN                NaN   \n",
              "246                NaN                NaN                NaN   \n",
              "\n",
              "     New Cases/1M pop  New Deaths/1M pop  Active Cases/1M pop  \n",
              "0                 NaN                NaN                  NaN  \n",
              "1                 NaN                NaN                  NaN  \n",
              "2                 NaN                NaN                  NaN  \n",
              "3                 NaN                NaN                  NaN  \n",
              "4                 NaN                NaN                  NaN  \n",
              "..                ...                ...                  ...  \n",
              "242               NaN                NaN                  NaN  \n",
              "243               NaN                NaN                  NaN  \n",
              "244               NaN                NaN                  NaN  \n",
              "245               NaN                NaN                  NaN  \n",
              "246               NaN                NaN                  NaN  \n",
              "\n",
              "[247 rows x 22 columns]>"
            ]
          },
          "metadata": {},
          "execution_count": 31
        }
      ]
    }
  ]
}